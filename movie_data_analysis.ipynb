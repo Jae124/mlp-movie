{
 "cells": [
  {
   "cell_type": "code",
   "execution_count": 111,
   "metadata": {
    "collapsed": true
   },
   "outputs": [],
   "source": [
    "import numpy as np\n",
    "import pandas as pd"
   ]
  },
  {
   "cell_type": "code",
   "execution_count": 170,
   "metadata": {
    "collapsed": false
   },
   "outputs": [],
   "source": [
    "movies = pd.read_csv('data/ml-latest-small/movies.csv')\n",
    "\n",
    "ratings = pd.read_csv('data/ml-latest-small/ratings.csv')\n",
    "ratings_agg = ratings[['movieId','rating']].groupby('movieId',as_index=False).mean()\n",
    "\n",
    "imdb = pd.read_csv('data/ml-latest-small/scraped_imdb_data.csv')\n",
    "imdb_data = imdb[['Actors','Director','Runtime','movieId']]"
   ]
  },
  {
   "cell_type": "code",
   "execution_count": 171,
   "metadata": {
    "collapsed": true
   },
   "outputs": [],
   "source": [
    "movies.set_index('movieId',inplace=True)\n",
    "ratings_agg.set_index('movieId',inplace=True)\n",
    "imdb_data.set_index('movieId',inplace=True)"
   ]
  },
  {
   "cell_type": "code",
   "execution_count": 175,
   "metadata": {
    "collapsed": false
   },
   "outputs": [],
   "source": [
    "join_1 = movies.join(ratings_agg,how='inner')\n",
    "join_2 = join_1.join(imdb_data,how = 'inner')\n",
    "mov_data_sm = join_2"
   ]
  },
  {
   "cell_type": "code",
   "execution_count": 176,
   "metadata": {
    "collapsed": false
   },
   "outputs": [
    {
     "data": {
      "text/html": [
       "<div>\n",
       "<table border=\"1\" class=\"dataframe\">\n",
       "  <thead>\n",
       "    <tr style=\"text-align: right;\">\n",
       "      <th></th>\n",
       "      <th>title</th>\n",
       "      <th>genres</th>\n",
       "      <th>rating</th>\n",
       "      <th>Actors</th>\n",
       "      <th>Director</th>\n",
       "      <th>Runtime</th>\n",
       "    </tr>\n",
       "    <tr>\n",
       "      <th>movieId</th>\n",
       "      <th></th>\n",
       "      <th></th>\n",
       "      <th></th>\n",
       "      <th></th>\n",
       "      <th></th>\n",
       "      <th></th>\n",
       "    </tr>\n",
       "  </thead>\n",
       "  <tbody>\n",
       "    <tr>\n",
       "      <th>3197</th>\n",
       "      <td>Presidio, The (1988)</td>\n",
       "      <td>Action|Crime|Romance|Thriller</td>\n",
       "      <td>3.250000</td>\n",
       "      <td>Sean Connery, Mark Harmon, Meg Ryan, Jack Warden</td>\n",
       "      <td>Peter Hyams</td>\n",
       "      <td>97 min</td>\n",
       "    </tr>\n",
       "    <tr>\n",
       "      <th>3198</th>\n",
       "      <td>Papillon (1973)</td>\n",
       "      <td>Crime|Drama</td>\n",
       "      <td>3.952381</td>\n",
       "      <td>Steve McQueen, Dustin Hoffman, Victor Jory, Do...</td>\n",
       "      <td>Franklin J. Schaffner</td>\n",
       "      <td>151 min</td>\n",
       "    </tr>\n",
       "    <tr>\n",
       "      <th>3199</th>\n",
       "      <td>Pal Joey (1957)</td>\n",
       "      <td>Comedy|Drama|Musical|Romance</td>\n",
       "      <td>3.666667</td>\n",
       "      <td>Rita Hayworth, Frank Sinatra, Kim Novak, Barba...</td>\n",
       "      <td>George Sidney</td>\n",
       "      <td>111 min</td>\n",
       "    </tr>\n",
       "    <tr>\n",
       "      <th>3200</th>\n",
       "      <td>Last Detail, The (1973)</td>\n",
       "      <td>Comedy|Drama</td>\n",
       "      <td>4.300000</td>\n",
       "      <td>Jack Nicholson, Otis Young, Randy Quaid, Clift...</td>\n",
       "      <td>Hal Ashby</td>\n",
       "      <td>104 min</td>\n",
       "    </tr>\n",
       "    <tr>\n",
       "      <th>3201</th>\n",
       "      <td>Five Easy Pieces (1970)</td>\n",
       "      <td>Drama</td>\n",
       "      <td>4.075000</td>\n",
       "      <td>Jack Nicholson, Karen Black, Billy Green Bush,...</td>\n",
       "      <td>Bob Rafelson</td>\n",
       "      <td>98 min</td>\n",
       "    </tr>\n",
       "  </tbody>\n",
       "</table>\n",
       "</div>"
      ],
      "text/plain": [
       "                           title                         genres    rating  \\\n",
       "movieId                                                                     \n",
       "3197        Presidio, The (1988)  Action|Crime|Romance|Thriller  3.250000   \n",
       "3198             Papillon (1973)                    Crime|Drama  3.952381   \n",
       "3199             Pal Joey (1957)   Comedy|Drama|Musical|Romance  3.666667   \n",
       "3200     Last Detail, The (1973)                   Comedy|Drama  4.300000   \n",
       "3201     Five Easy Pieces (1970)                          Drama  4.075000   \n",
       "\n",
       "                                                    Actors  \\\n",
       "movieId                                                      \n",
       "3197      Sean Connery, Mark Harmon, Meg Ryan, Jack Warden   \n",
       "3198     Steve McQueen, Dustin Hoffman, Victor Jory, Do...   \n",
       "3199     Rita Hayworth, Frank Sinatra, Kim Novak, Barba...   \n",
       "3200     Jack Nicholson, Otis Young, Randy Quaid, Clift...   \n",
       "3201     Jack Nicholson, Karen Black, Billy Green Bush,...   \n",
       "\n",
       "                      Director  Runtime  \n",
       "movieId                                  \n",
       "3197               Peter Hyams   97 min  \n",
       "3198     Franklin J. Schaffner  151 min  \n",
       "3199             George Sidney  111 min  \n",
       "3200                 Hal Ashby  104 min  \n",
       "3201              Bob Rafelson   98 min  "
      ]
     },
     "execution_count": 176,
     "metadata": {},
     "output_type": "execute_result"
    }
   ],
   "source": [
    "mov_data_sm.head()"
   ]
  },
  {
   "cell_type": "code",
   "execution_count": 81,
   "metadata": {
    "collapsed": true
   },
   "outputs": [],
   "source": []
  },
  {
   "cell_type": "code",
   "execution_count": null,
   "metadata": {
    "collapsed": true
   },
   "outputs": [],
   "source": []
  }
 ],
 "metadata": {
  "kernelspec": {
   "display_name": "Python [Root]",
   "language": "python",
   "name": "Python [Root]"
  },
  "language_info": {
   "codemirror_mode": {
    "name": "ipython",
    "version": 2
   },
   "file_extension": ".py",
   "mimetype": "text/x-python",
   "name": "python",
   "nbconvert_exporter": "python",
   "pygments_lexer": "ipython2",
   "version": "2.7.12"
  }
 },
 "nbformat": 4,
 "nbformat_minor": 0
}
