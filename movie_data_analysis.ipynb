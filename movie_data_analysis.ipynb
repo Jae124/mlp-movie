{
 "cells": [
  {
   "cell_type": "code",
   "execution_count": 23,
   "metadata": {
    "collapsed": true
   },
   "outputs": [],
   "source": [
    "import numpy as np\n",
    "import pandas as pd"
   ]
  },
  {
   "cell_type": "code",
   "execution_count": 65,
   "metadata": {
    "collapsed": false
   },
   "outputs": [],
   "source": [
    "#read in data sets\n",
    "movies = pd.read_csv('data/ml-latest-small/movies.csv')\n",
    "\n",
    "ratings = pd.read_csv('data/ml-latest-small/ratings.csv')\n",
    "ratings_agg = ratings[['movieId','rating']].groupby('movieId',as_index=False).mean()\n",
    "\n",
    "imdb = pd.read_csv('data/ml-latest-small/scraped_imdb_data.csv')\n",
    "imdb_data = imdb[['Director','Runtime','movieId']]"
   ]
  },
  {
   "cell_type": "code",
   "execution_count": 66,
   "metadata": {
    "collapsed": true
   },
   "outputs": [],
   "source": [
    "#join tables \n",
    "movies.set_index('movieId',inplace=True)\n",
    "ratings_agg.set_index('movieId',inplace=True)\n",
    "imdb_data.set_index('movieId',inplace=True)\n",
    "join_1 = movies.join(ratings_agg,how='inner')\n",
    "join_2 = join_1.join(imdb_data,how = 'inner')\n",
    "mov_data_sm = join_2"
   ]
  },
  {
   "cell_type": "code",
   "execution_count": 68,
   "metadata": {
    "collapsed": false
   },
   "outputs": [],
   "source": [
    "#preprocess genres\n",
    "genres = mov_data_sm['genres'].astype(str).apply(lambda s:s.split('|'),0)\n",
    "genres_bin = pd.get_dummies(genres.apply(pd.Series).stack()).sum(level=0)\n",
    "mov_data_sm.drop('genres',axis=1,inplace=True)\n",
    "mov_data_sm = mov_data_sm.join(genres_bin)"
   ]
  },
  {
   "cell_type": "code",
   "execution_count": 69,
   "metadata": {
    "collapsed": false
   },
   "outputs": [],
   "source": [
    "#preprocess runtime\n",
    "mov_data_sm['Runtime'] = mov_data_sm['Runtime'].astype(str).apply(lambda s:s.strip(' min'),0)\n",
    "def time_to_int(t):\n",
    "    try:\n",
    "        return int(t)\n",
    "    except:\n",
    "        return 90\n",
    "mov_data_sm['Runtime'] = mov_data_sm['Runtime'].apply(time_to_int,0).astype(int)"
   ]
  },
  {
   "cell_type": "code",
   "execution_count": 78,
   "metadata": {
    "collapsed": false
   },
   "outputs": [],
   "source": [
    "#preprocess directors \n",
    "mov_data_sm = pd.get_dummies(mov_data_sm,columns=['Director'])"
   ]
  },
  {
   "cell_type": "code",
   "execution_count": 82,
   "metadata": {
    "collapsed": false
   },
   "outputs": [],
   "source": [
    "#drop title\n",
    "mov_data_sm.drop('title',axis=1,inplace=True)"
   ]
  },
  {
   "cell_type": "code",
   "execution_count": null,
   "metadata": {
    "collapsed": true
   },
   "outputs": [],
   "source": []
  }
 ],
 "metadata": {
  "kernelspec": {
   "display_name": "Python [Root]",
   "language": "python",
   "name": "Python [Root]"
  },
  "language_info": {
   "codemirror_mode": {
    "name": "ipython",
    "version": 2
   },
   "file_extension": ".py",
   "mimetype": "text/x-python",
   "name": "python",
   "nbconvert_exporter": "python",
   "pygments_lexer": "ipython2",
   "version": "2.7.12"
  }
 },
 "nbformat": 4,
 "nbformat_minor": 0
}
