{
 "cells": [
  {
   "cell_type": "code",
   "execution_count": 40,
   "metadata": {
    "collapsed": true
   },
   "outputs": [],
   "source": [
    "import numpy as np\n",
    "import pandas as pd"
   ]
  },
  {
   "cell_type": "code",
   "execution_count": 41,
   "metadata": {
    "collapsed": false
   },
   "outputs": [],
   "source": [
    "#read in data sets\n",
    "movies = pd.read_csv('data/ml-latest-small/movies.csv')\n",
    "\n",
    "ratings = pd.read_csv('data/ml-latest-small/ratings.csv')\n",
    "ratings_agg = ratings[['movieId','rating']].groupby('movieId',as_index=False).mean()\n",
    "\n",
    "imdb = pd.read_csv('data/ml-latest-small/scraped_imdb_data.csv')\n",
    "imdb_data = imdb[['Director','Runtime','movieId','Actors']]"
   ]
  },
  {
   "cell_type": "code",
   "execution_count": 42,
   "metadata": {
    "collapsed": true
   },
   "outputs": [],
   "source": [
    "#join tables \n",
    "movies.set_index('movieId',inplace=True)\n",
    "ratings_agg.set_index('movieId',inplace=True)\n",
    "imdb_data.set_index('movieId',inplace=True)\n",
    "join_1 = movies.join(ratings_agg,how='inner')\n",
    "join_2 = join_1.join(imdb_data,how = 'inner')\n",
    "mov_data_sm = join_2"
   ]
  },
  {
   "cell_type": "code",
   "execution_count": 43,
   "metadata": {
    "collapsed": false
   },
   "outputs": [],
   "source": [
    "#preprocess genres\n",
    "genres = mov_data_sm['genres'].astype(str).apply(lambda s:s.split('|'),0)\n",
    "genres_bin = pd.get_dummies(genres.apply(pd.Series).stack()).sum(level=0)\n",
    "mov_data_sm.drop('genres',axis=1,inplace=True)\n",
    "mov_data_sm = mov_data_sm.join(genres_bin)"
   ]
  },
  {
   "cell_type": "code",
   "execution_count": 44,
   "metadata": {
    "collapsed": false
   },
   "outputs": [],
   "source": [
    "#preprocess runtime\n",
    "mov_data_sm['Runtime'] = mov_data_sm['Runtime'].astype(str).apply(lambda s:s.strip(' min'),0)\n",
    "def time_to_int(t):\n",
    "    try:\n",
    "        return int(t)\n",
    "    except:\n",
    "        return 90\n",
    "mov_data_sm['Runtime'] = mov_data_sm['Runtime'].apply(time_to_int,0).astype(int)"
   ]
  },
  {
   "cell_type": "code",
   "execution_count": 45,
   "metadata": {
    "collapsed": false
   },
   "outputs": [],
   "source": [
    "#preprocess directors \n",
    "mov_data_sm = pd.get_dummies(mov_data_sm,columns=['Director'])"
   ]
  },
  {
   "cell_type": "code",
   "execution_count": 46,
   "metadata": {
    "collapsed": false
   },
   "outputs": [],
   "source": [
    "#drop title\n",
    "mov_data_sm.drop('title',axis=1,inplace=True)"
   ]
  },
  {
   "cell_type": "code",
   "execution_count": 47,
   "metadata": {
    "collapsed": false
   },
   "outputs": [],
   "source": [
    "#vectorize actors \n",
    "actors = mov_data_sm['Actors'].astype(str).apply(lambda s:s.split(','),0)\n",
    "actors_bin = pd.get_dummies(actors.apply(pd.Series).stack()).sum(level=0)\n",
    "mov_data_sm.drop('Actors',axis=1,inplace=True)\n",
    "mov_data_sm = mov_data_sm.join(actors_bin)"
   ]
  },
  {
   "cell_type": "code",
   "execution_count": 48,
   "metadata": {
    "collapsed": false
   },
   "outputs": [],
   "source": [
    "#preprare data for random forest \n",
    "from sklearn.model_selection import train_test_split\n",
    "y = mov_data_sm['rating']\n",
    "x = mov_data_sm.drop('rating',axis=1)\n",
    "x_train, x_test, y_train, y_test = train_test_split(x, y, test_size=0.2, random_state=21)"
   ]
  },
  {
   "cell_type": "code",
   "execution_count": 49,
   "metadata": {
    "collapsed": false
   },
   "outputs": [
    {
     "name": "stdout",
     "output_type": "stream",
     "text": [
      "0.757627238984\n"
     ]
    }
   ],
   "source": [
    "#random forest model \n",
    "from sklearn.ensemble import RandomForestRegressor\n",
    "from sklearn.metrics import mean_squared_error\n",
    "rfg = RandomForestRegressor(100)\n",
    "rfg.fit(x_train,y_train)\n",
    "pred = rfg.predict(x_test)\n",
    "print mean_squared_error(pred,y_test)"
   ]
  },
  {
   "cell_type": "code",
   "execution_count": 50,
   "metadata": {
    "collapsed": true
   },
   "outputs": [],
   "source": [
    "pred = rfg.predict(x_test)"
   ]
  },
  {
   "cell_type": "code",
   "execution_count": null,
   "metadata": {
    "collapsed": true
   },
   "outputs": [],
   "source": []
  }
 ],
 "metadata": {
  "anaconda-cloud": {},
  "kernelspec": {
   "display_name": "Python [Root]",
   "language": "python",
   "name": "Python [Root]"
  },
  "language_info": {
   "codemirror_mode": {
    "name": "ipython",
    "version": 2
   },
   "file_extension": ".py",
   "mimetype": "text/x-python",
   "name": "python",
   "nbconvert_exporter": "python",
   "pygments_lexer": "ipython2",
   "version": "2.7.12"
  }
 },
 "nbformat": 4,
 "nbformat_minor": 0
}
